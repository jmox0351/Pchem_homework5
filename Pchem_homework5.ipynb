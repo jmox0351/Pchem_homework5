{
 "cells": [
  {
   "cell_type": "code",
   "execution_count": 3,
   "metadata": {},
   "outputs": [],
   "source": [
    "library(tidyverse)\n",
    "library(ggplot2)"
   ]
  },
  {
   "cell_type": "code",
   "execution_count": 12,
   "metadata": {},
   "outputs": [],
   "source": [
    "xa = seq(0,1, \"by\" = 0.05)\n",
    "xb = 1 - xa\n",
    "r = 8.314\n",
    "t = 298\n",
    "zi = 1.75"
   ]
  },
  {
   "cell_type": "code",
   "execution_count": 20,
   "metadata": {
    "scrolled": false
   },
   "outputs": [
    {
     "data": {
      "text/html": [
       "<table>\n",
       "<thead><tr><th scope=col>xa</th><th scope=col>deltaG</th><th scope=col>deltaS</th><th scope=col>deltaH</th></tr></thead>\n",
       "<tbody>\n",
       "\t<tr><td>0.00     </td><td>      NaN</td><td>     NaN </td><td>      NaN</td></tr>\n",
       "\t<tr><td>0.05     </td><td>-285.8876</td><td>1.650456 </td><td> 205.9482</td></tr>\n",
       "\t<tr><td>0.10     </td><td>-415.1989</td><td>2.702740 </td><td> 390.2176</td></tr>\n",
       "\t<tr><td>0.15     </td><td>-494.4839</td><td>3.514403 </td><td> 552.8083</td></tr>\n",
       "\t<tr><td>0.20     </td><td>-546.0629</td><td>4.160346 </td><td> 693.7202</td></tr>\n",
       "\t<tr><td>0.25     </td><td>-580.2725</td><td>4.675254 </td><td> 812.9533</td></tr>\n",
       "\t<tr><td>0.30     </td><td>-602.9526</td><td>5.078726 </td><td> 910.5077</td></tr>\n",
       "\t<tr><td>0.35     </td><td>-617.7123</td><td>5.382871 </td><td> 986.3834</td></tr>\n",
       "\t<tr><td>0.40     </td><td>-626.8546</td><td>5.595419 </td><td>1040.5802</td></tr>\n",
       "\t<tr><td>0.45     </td><td>-631.8151</td><td>5.721186 </td><td>1073.0984</td></tr>\n",
       "\t<tr><td>0.50     </td><td>-633.3843</td><td>5.762826 </td><td>1083.9377</td></tr>\n",
       "\t<tr><td>0.55     </td><td>-631.8151</td><td>5.721186 </td><td>1073.0984</td></tr>\n",
       "\t<tr><td>0.60     </td><td>-626.8546</td><td>5.595419 </td><td>1040.5802</td></tr>\n",
       "\t<tr><td>0.65     </td><td>-617.7123</td><td>5.382871 </td><td> 986.3834</td></tr>\n",
       "\t<tr><td>0.70     </td><td>-602.9526</td><td>5.078726 </td><td> 910.5077</td></tr>\n",
       "\t<tr><td>0.75     </td><td>-580.2725</td><td>4.675254 </td><td> 812.9533</td></tr>\n",
       "\t<tr><td>0.80     </td><td>-546.0629</td><td>4.160346 </td><td> 693.7202</td></tr>\n",
       "\t<tr><td>0.85     </td><td>-494.4839</td><td>3.514403 </td><td> 552.8083</td></tr>\n",
       "\t<tr><td>0.90     </td><td>-415.1989</td><td>2.702740 </td><td> 390.2176</td></tr>\n",
       "\t<tr><td>0.95     </td><td>-285.8876</td><td>1.650456 </td><td> 205.9482</td></tr>\n",
       "\t<tr><td>1.00     </td><td>      NaN</td><td>     NaN </td><td>      NaN</td></tr>\n",
       "</tbody>\n",
       "</table>\n"
      ],
      "text/latex": [
       "\\begin{tabular}{r|llll}\n",
       " xa & deltaG & deltaS & deltaH\\\\\n",
       "\\hline\n",
       "\t 0.00      &       NaN &      NaN  &       NaN\\\\\n",
       "\t 0.05      & -285.8876 & 1.650456  &  205.9482\\\\\n",
       "\t 0.10      & -415.1989 & 2.702740  &  390.2176\\\\\n",
       "\t 0.15      & -494.4839 & 3.514403  &  552.8083\\\\\n",
       "\t 0.20      & -546.0629 & 4.160346  &  693.7202\\\\\n",
       "\t 0.25      & -580.2725 & 4.675254  &  812.9533\\\\\n",
       "\t 0.30      & -602.9526 & 5.078726  &  910.5077\\\\\n",
       "\t 0.35      & -617.7123 & 5.382871  &  986.3834\\\\\n",
       "\t 0.40      & -626.8546 & 5.595419  & 1040.5802\\\\\n",
       "\t 0.45      & -631.8151 & 5.721186  & 1073.0984\\\\\n",
       "\t 0.50      & -633.3843 & 5.762826  & 1083.9377\\\\\n",
       "\t 0.55      & -631.8151 & 5.721186  & 1073.0984\\\\\n",
       "\t 0.60      & -626.8546 & 5.595419  & 1040.5802\\\\\n",
       "\t 0.65      & -617.7123 & 5.382871  &  986.3834\\\\\n",
       "\t 0.70      & -602.9526 & 5.078726  &  910.5077\\\\\n",
       "\t 0.75      & -580.2725 & 4.675254  &  812.9533\\\\\n",
       "\t 0.80      & -546.0629 & 4.160346  &  693.7202\\\\\n",
       "\t 0.85      & -494.4839 & 3.514403  &  552.8083\\\\\n",
       "\t 0.90      & -415.1989 & 2.702740  &  390.2176\\\\\n",
       "\t 0.95      & -285.8876 & 1.650456  &  205.9482\\\\\n",
       "\t 1.00      &       NaN &      NaN  &       NaN\\\\\n",
       "\\end{tabular}\n"
      ],
      "text/markdown": [
       "\n",
       "| xa | deltaG | deltaS | deltaH |\n",
       "|---|---|---|---|\n",
       "| 0.00      |       NaN |      NaN  |       NaN |\n",
       "| 0.05      | -285.8876 | 1.650456  |  205.9482 |\n",
       "| 0.10      | -415.1989 | 2.702740  |  390.2176 |\n",
       "| 0.15      | -494.4839 | 3.514403  |  552.8083 |\n",
       "| 0.20      | -546.0629 | 4.160346  |  693.7202 |\n",
       "| 0.25      | -580.2725 | 4.675254  |  812.9533 |\n",
       "| 0.30      | -602.9526 | 5.078726  |  910.5077 |\n",
       "| 0.35      | -617.7123 | 5.382871  |  986.3834 |\n",
       "| 0.40      | -626.8546 | 5.595419  | 1040.5802 |\n",
       "| 0.45      | -631.8151 | 5.721186  | 1073.0984 |\n",
       "| 0.50      | -633.3843 | 5.762826  | 1083.9377 |\n",
       "| 0.55      | -631.8151 | 5.721186  | 1073.0984 |\n",
       "| 0.60      | -626.8546 | 5.595419  | 1040.5802 |\n",
       "| 0.65      | -617.7123 | 5.382871  |  986.3834 |\n",
       "| 0.70      | -602.9526 | 5.078726  |  910.5077 |\n",
       "| 0.75      | -580.2725 | 4.675254  |  812.9533 |\n",
       "| 0.80      | -546.0629 | 4.160346  |  693.7202 |\n",
       "| 0.85      | -494.4839 | 3.514403  |  552.8083 |\n",
       "| 0.90      | -415.1989 | 2.702740  |  390.2176 |\n",
       "| 0.95      | -285.8876 | 1.650456  |  205.9482 |\n",
       "| 1.00      |       NaN |      NaN  |       NaN |\n",
       "\n"
      ],
      "text/plain": [
       "   xa   deltaG    deltaS   deltaH   \n",
       "1  0.00       NaN      NaN       NaN\n",
       "2  0.05 -285.8876 1.650456  205.9482\n",
       "3  0.10 -415.1989 2.702740  390.2176\n",
       "4  0.15 -494.4839 3.514403  552.8083\n",
       "5  0.20 -546.0629 4.160346  693.7202\n",
       "6  0.25 -580.2725 4.675254  812.9533\n",
       "7  0.30 -602.9526 5.078726  910.5077\n",
       "8  0.35 -617.7123 5.382871  986.3834\n",
       "9  0.40 -626.8546 5.595419 1040.5802\n",
       "10 0.45 -631.8151 5.721186 1073.0984\n",
       "11 0.50 -633.3843 5.762826 1083.9377\n",
       "12 0.55 -631.8151 5.721186 1073.0984\n",
       "13 0.60 -626.8546 5.595419 1040.5802\n",
       "14 0.65 -617.7123 5.382871  986.3834\n",
       "15 0.70 -602.9526 5.078726  910.5077\n",
       "16 0.75 -580.2725 4.675254  812.9533\n",
       "17 0.80 -546.0629 4.160346  693.7202\n",
       "18 0.85 -494.4839 3.514403  552.8083\n",
       "19 0.90 -415.1989 2.702740  390.2176\n",
       "20 0.95 -285.8876 1.650456  205.9482\n",
       "21 1.00       NaN      NaN       NaN"
      ]
     },
     "metadata": {},
     "output_type": "display_data"
    }
   ],
   "source": [
    "deltaG = r * t * (zi * xa * xb + xa * log(xa) + xb * log(xb))\n",
    "deltaS = -r * (xa * log(xa) + xb * log(xb))\n",
    "deltaH = deltaG + 298 * deltaS\n",
    "df = data.frame(xa,deltaG, deltaS, deltaH)\n",
    "df"
   ]
  },
  {
   "cell_type": "code",
   "execution_count": 21,
   "metadata": {},
   "outputs": [
    {
     "name": "stderr",
     "output_type": "stream",
     "text": [
      "Warning message:\n",
      "\"Removed 2 rows containing missing values (geom_point).\""
     ]
    },
    {
     "data": {
      "image/png": "[encoded data removed]",
      "text/plain": [
       "plot without title"
      ]
     },
     "metadata": {},
     "output_type": "display_data"
    }
   ],
   "source": [
    "ggplot(data = df, aes(x = xa, y = deltaG)) + geom_point()"
   ]
  },
  {
   "cell_type": "code",
   "execution_count": null,
   "metadata": {},
   "outputs": [],
   "source": []
  }
 ],
 "metadata": {
  "kernelspec": {
   "display_name": "R",
   "language": "R",
   "name": "ir"
  },
  "language_info": {
   "codemirror_mode": "r",
   "file_extension": ".r",
   "mimetype": "text/x-r-source",
   "name": "R",
   "pygments_lexer": "r",
   "version": "3.6.1"
  }
 },
 "nbformat": 4,
 "nbformat_minor": 2
}
